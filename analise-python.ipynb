{
 "cells": [
  {
   "cell_type": "code",
   "execution_count": 18,
   "id": "2c1a8dc5",
   "metadata": {},
   "outputs": [],
   "source": [
    "import pandas as pd\n",
    "import numpy  as np"
   ]
  },
  {
   "cell_type": "code",
   "execution_count": 36,
   "id": "303f828f",
   "metadata": {},
   "outputs": [
    {
     "data": {
      "text/html": [
       "<div>\n",
       "<style scoped>\n",
       "    .dataframe tbody tr th:only-of-type {\n",
       "        vertical-align: middle;\n",
       "    }\n",
       "\n",
       "    .dataframe tbody tr th {\n",
       "        vertical-align: top;\n",
       "    }\n",
       "\n",
       "    .dataframe thead th {\n",
       "        text-align: right;\n",
       "    }\n",
       "</style>\n",
       "<table border=\"1\" class=\"dataframe\">\n",
       "  <thead>\n",
       "    <tr style=\"text-align: right;\">\n",
       "      <th></th>\n",
       "      <th>Cadastro Lojas - 2024</th>\n",
       "      <th>Unnamed: 1</th>\n",
       "      <th>Unnamed: 2</th>\n",
       "      <th>Unnamed: 3</th>\n",
       "      <th>Unnamed: 4</th>\n",
       "      <th>Unnamed: 5</th>\n",
       "      <th>Unnamed: 6</th>\n",
       "    </tr>\n",
       "  </thead>\n",
       "  <tbody>\n",
       "    <tr>\n",
       "      <th>0</th>\n",
       "      <td>NaN</td>\n",
       "      <td>NaN</td>\n",
       "      <td>NaN</td>\n",
       "      <td>NaN</td>\n",
       "      <td>NaN</td>\n",
       "      <td>NaN</td>\n",
       "      <td>NaN</td>\n",
       "    </tr>\n",
       "    <tr>\n",
       "      <th>1</th>\n",
       "      <td>NaN</td>\n",
       "      <td>NaN</td>\n",
       "      <td>NaN</td>\n",
       "      <td>NaN</td>\n",
       "      <td>NaN</td>\n",
       "      <td>NaN</td>\n",
       "      <td>NaN</td>\n",
       "    </tr>\n",
       "    <tr>\n",
       "      <th>2</th>\n",
       "      <td>Id Loja</td>\n",
       "      <td>Localidade</td>\n",
       "      <td>Cidade</td>\n",
       "      <td>Tipo Loja</td>\n",
       "      <td>Nome Gerente</td>\n",
       "      <td>Sobrenome Gerente</td>\n",
       "      <td>NaN</td>\n",
       "    </tr>\n",
       "    <tr>\n",
       "      <th>3</th>\n",
       "      <td>423</td>\n",
       "      <td>Inglaterra - Europa</td>\n",
       "      <td>Basingstoke Hants</td>\n",
       "      <td>Física</td>\n",
       "      <td>Beatriz</td>\n",
       "      <td>Lima</td>\n",
       "      <td>NaN</td>\n",
       "    </tr>\n",
       "    <tr>\n",
       "      <th>4</th>\n",
       "      <td>424</td>\n",
       "      <td>Estados Unidos - América do Norte</td>\n",
       "      <td>Bellevue</td>\n",
       "      <td>Física</td>\n",
       "      <td>Maria</td>\n",
       "      <td>Costa</td>\n",
       "      <td>NaN</td>\n",
       "    </tr>\n",
       "  </tbody>\n",
       "</table>\n",
       "</div>"
      ],
      "text/plain": [
       "  Cadastro Lojas - 2024                         Unnamed: 1         Unnamed: 2  \\\n",
       "0                   NaN                                NaN                NaN   \n",
       "1                   NaN                                NaN                NaN   \n",
       "2               Id Loja                         Localidade             Cidade   \n",
       "3                   423                Inglaterra - Europa  Basingstoke Hants   \n",
       "4                   424  Estados Unidos - América do Norte           Bellevue   \n",
       "\n",
       "  Unnamed: 3    Unnamed: 4         Unnamed: 5 Unnamed: 6  \n",
       "0        NaN           NaN                NaN        NaN  \n",
       "1        NaN           NaN                NaN        NaN  \n",
       "2  Tipo Loja  Nome Gerente  Sobrenome Gerente        NaN  \n",
       "3     Física       Beatriz               Lima        NaN  \n",
       "4     Física         Maria              Costa        NaN  "
      ]
     },
     "execution_count": 36,
     "metadata": {},
     "output_type": "execute_result"
    }
   ],
   "source": [
    "lojas = pd.read_excel('data/Cadastro_Lojas.xlsx')\n",
    "lojas.head(5)\n"
   ]
  },
  {
   "cell_type": "code",
   "execution_count": 37,
   "id": "caac6a87",
   "metadata": {},
   "outputs": [
    {
     "data": {
      "text/html": [
       "<div>\n",
       "<style scoped>\n",
       "    .dataframe tbody tr th:only-of-type {\n",
       "        vertical-align: middle;\n",
       "    }\n",
       "\n",
       "    .dataframe tbody tr th {\n",
       "        vertical-align: top;\n",
       "    }\n",
       "\n",
       "    .dataframe thead th {\n",
       "        text-align: right;\n",
       "    }\n",
       "</style>\n",
       "<table border=\"1\" class=\"dataframe\">\n",
       "  <thead>\n",
       "    <tr style=\"text-align: right;\">\n",
       "      <th></th>\n",
       "      <th>Id Loja</th>\n",
       "      <th>Localidade</th>\n",
       "      <th>Cidade</th>\n",
       "      <th>Tipo Loja</th>\n",
       "      <th>Nome Gerente</th>\n",
       "      <th>Sobrenome Gerente</th>\n",
       "    </tr>\n",
       "  </thead>\n",
       "  <tbody>\n",
       "    <tr>\n",
       "      <th>3</th>\n",
       "      <td>423</td>\n",
       "      <td>Inglaterra - Europa</td>\n",
       "      <td>Basingstoke Hants</td>\n",
       "      <td>Física</td>\n",
       "      <td>Beatriz</td>\n",
       "      <td>Lima</td>\n",
       "    </tr>\n",
       "    <tr>\n",
       "      <th>4</th>\n",
       "      <td>424</td>\n",
       "      <td>Estados Unidos - América do Norte</td>\n",
       "      <td>Bellevue</td>\n",
       "      <td>Física</td>\n",
       "      <td>Maria</td>\n",
       "      <td>Costa</td>\n",
       "    </tr>\n",
       "    <tr>\n",
       "      <th>5</th>\n",
       "      <td>425</td>\n",
       "      <td>Austrália - Austrália</td>\n",
       "      <td>Bendigo</td>\n",
       "      <td>Física</td>\n",
       "      <td>João</td>\n",
       "      <td>Mendes</td>\n",
       "    </tr>\n",
       "    <tr>\n",
       "      <th>6</th>\n",
       "      <td>426</td>\n",
       "      <td>Inglaterra - Europa</td>\n",
       "      <td>Berks</td>\n",
       "      <td>Online</td>\n",
       "      <td>Sofia</td>\n",
       "      <td>Rocha</td>\n",
       "    </tr>\n",
       "    <tr>\n",
       "      <th>7</th>\n",
       "      <td>430</td>\n",
       "      <td>Estados Unidos - América do Norte</td>\n",
       "      <td>Beverly Hills</td>\n",
       "      <td>Física</td>\n",
       "      <td>Lucas</td>\n",
       "      <td>Gomes</td>\n",
       "    </tr>\n",
       "  </tbody>\n",
       "</table>\n",
       "</div>"
      ],
      "text/plain": [
       "  Id Loja                         Localidade             Cidade Tipo Loja  \\\n",
       "3     423                Inglaterra - Europa  Basingstoke Hants    Física   \n",
       "4     424  Estados Unidos - América do Norte           Bellevue    Física   \n",
       "5     425              Austrália - Austrália            Bendigo    Física   \n",
       "6     426                Inglaterra - Europa              Berks    Online   \n",
       "7     430  Estados Unidos - América do Norte      Beverly Hills    Física   \n",
       "\n",
       "  Nome Gerente Sobrenome Gerente  \n",
       "3      Beatriz              Lima  \n",
       "4        Maria             Costa  \n",
       "5         João            Mendes  \n",
       "6        Sofia             Rocha  \n",
       "7        Lucas             Gomes  "
      ]
     },
     "execution_count": 37,
     "metadata": {},
     "output_type": "execute_result"
    }
   ],
   "source": [
    "lojas = lojas.dropna(how='all')\n",
    "lojas = lojas.dropna(axis=1)\n",
    "columns = lojas.iloc[0].to_list()\n",
    "lojas = lojas.iloc[1:]\n",
    "lojas.columns = columns\n",
    "lojas.head()"
   ]
  },
  {
   "cell_type": "code",
   "execution_count": null,
   "id": "73218038",
   "metadata": {},
   "outputs": [
    {
     "data": {
      "text/html": [
       "<div>\n",
       "<style scoped>\n",
       "    .dataframe tbody tr th:only-of-type {\n",
       "        vertical-align: middle;\n",
       "    }\n",
       "\n",
       "    .dataframe tbody tr th {\n",
       "        vertical-align: top;\n",
       "    }\n",
       "\n",
       "    .dataframe thead th {\n",
       "        text-align: right;\n",
       "    }\n",
       "</style>\n",
       "<table border=\"1\" class=\"dataframe\">\n",
       "  <thead>\n",
       "    <tr style=\"text-align: right;\">\n",
       "      <th></th>\n",
       "      <th>Id Loja</th>\n",
       "      <th>Cidade</th>\n",
       "      <th>Tipo Loja</th>\n",
       "      <th>Pais</th>\n",
       "      <th>Continente</th>\n",
       "      <th>Gerente</th>\n",
       "    </tr>\n",
       "  </thead>\n",
       "  <tbody>\n",
       "    <tr>\n",
       "      <th>3</th>\n",
       "      <td>423</td>\n",
       "      <td>Basingstoke Hants</td>\n",
       "      <td>Física</td>\n",
       "      <td>Inglaterra</td>\n",
       "      <td>Europa</td>\n",
       "      <td>Beatriz Lima</td>\n",
       "    </tr>\n",
       "    <tr>\n",
       "      <th>4</th>\n",
       "      <td>424</td>\n",
       "      <td>Bellevue</td>\n",
       "      <td>Física</td>\n",
       "      <td>Estados Unidos</td>\n",
       "      <td>América do Norte</td>\n",
       "      <td>Maria Costa</td>\n",
       "    </tr>\n",
       "    <tr>\n",
       "      <th>5</th>\n",
       "      <td>425</td>\n",
       "      <td>Bendigo</td>\n",
       "      <td>Física</td>\n",
       "      <td>Austrália</td>\n",
       "      <td>Austrália</td>\n",
       "      <td>João Mendes</td>\n",
       "    </tr>\n",
       "    <tr>\n",
       "      <th>6</th>\n",
       "      <td>426</td>\n",
       "      <td>Berks</td>\n",
       "      <td>Online</td>\n",
       "      <td>Inglaterra</td>\n",
       "      <td>Europa</td>\n",
       "      <td>Sofia Rocha</td>\n",
       "    </tr>\n",
       "    <tr>\n",
       "      <th>7</th>\n",
       "      <td>430</td>\n",
       "      <td>Beverly Hills</td>\n",
       "      <td>Física</td>\n",
       "      <td>Estados Unidos</td>\n",
       "      <td>América do Norte</td>\n",
       "      <td>Lucas Gomes</td>\n",
       "    </tr>\n",
       "  </tbody>\n",
       "</table>\n",
       "</div>"
      ],
      "text/plain": [
       "  Id Loja             Cidade Tipo Loja            Pais        Continente  \\\n",
       "3     423  Basingstoke Hants    Física      Inglaterra            Europa   \n",
       "4     424           Bellevue    Física  Estados Unidos  América do Norte   \n",
       "5     425            Bendigo    Física       Austrália         Austrália   \n",
       "6     426              Berks    Online      Inglaterra            Europa   \n",
       "7     430      Beverly Hills    Física  Estados Unidos  América do Norte   \n",
       "\n",
       "        Gerente  \n",
       "3  Beatriz Lima  \n",
       "4   Maria Costa  \n",
       "5   João Mendes  \n",
       "6   Sofia Rocha  \n",
       "7   Lucas Gomes  "
      ]
     },
     "execution_count": 38,
     "metadata": {},
     "output_type": "execute_result"
    }
   ],
   "source": [
    "lojas[['Pais','Continente']] = lojas['Localidade'].str.split(' - ', expand=True)\n",
    "lojas['Gerente'] = lojas['Nome Gerente']  + ' ' + lojas['Sobrenome Gerente']\n",
    "lojas = lojas.drop(['Localidade','Nome Gerente','Sobrenome Gerente'], axis=1)\n",
    "lojas.head()"
   ]
  },
  {
   "cell_type": "code",
   "execution_count": 148,
   "id": "75ccd620",
   "metadata": {},
   "outputs": [
    {
     "data": {
      "text/html": [
       "<div>\n",
       "<style scoped>\n",
       "    .dataframe tbody tr th:only-of-type {\n",
       "        vertical-align: middle;\n",
       "    }\n",
       "\n",
       "    .dataframe tbody tr th {\n",
       "        vertical-align: top;\n",
       "    }\n",
       "\n",
       "    .dataframe thead th {\n",
       "        text-align: right;\n",
       "    }\n",
       "</style>\n",
       "<table border=\"1\" class=\"dataframe\">\n",
       "  <thead>\n",
       "    <tr style=\"text-align: right;\">\n",
       "      <th></th>\n",
       "      <th>Id Produto</th>\n",
       "      <th>Nome Produto</th>\n",
       "      <th>Categoria</th>\n",
       "      <th>Marca</th>\n",
       "      <th>Preço Unit.</th>\n",
       "      <th>Custo Unit.</th>\n",
       "    </tr>\n",
       "  </thead>\n",
       "  <tbody>\n",
       "    <tr>\n",
       "      <th>0</th>\n",
       "      <td>1037</td>\n",
       "      <td>A. Datum Advanced Digital Camera M300 Azure</td>\n",
       "      <td>Cameras and camcorders</td>\n",
       "      <td>A. Datum</td>\n",
       "      <td>188.50</td>\n",
       "      <td>86.68</td>\n",
       "    </tr>\n",
       "    <tr>\n",
       "      <th>1</th>\n",
       "      <td>953</td>\n",
       "      <td>A. Datum Advanced Digital Camera M300 Black</td>\n",
       "      <td>Cameras and camcorders</td>\n",
       "      <td>A. Datum</td>\n",
       "      <td>188.50</td>\n",
       "      <td>86.68</td>\n",
       "    </tr>\n",
       "    <tr>\n",
       "      <th>2</th>\n",
       "      <td>1023</td>\n",
       "      <td>A. Datum Advanced Digital Camera M300 Green</td>\n",
       "      <td>Cameras and camcorders</td>\n",
       "      <td>A. Datum</td>\n",
       "      <td>188.50</td>\n",
       "      <td>86.68</td>\n",
       "    </tr>\n",
       "    <tr>\n",
       "      <th>3</th>\n",
       "      <td>967</td>\n",
       "      <td>A. Datum Advanced Digital Camera M300 Grey</td>\n",
       "      <td>Cameras and camcorders</td>\n",
       "      <td>A. Datum</td>\n",
       "      <td>188.50</td>\n",
       "      <td>86.68</td>\n",
       "    </tr>\n",
       "    <tr>\n",
       "      <th>4</th>\n",
       "      <td>1009</td>\n",
       "      <td>A. Datum Advanced Digital Camera M300 Orange</td>\n",
       "      <td>Cameras and camcorders</td>\n",
       "      <td>A. Datum</td>\n",
       "      <td>188.50</td>\n",
       "      <td>86.68</td>\n",
       "    </tr>\n",
       "  </tbody>\n",
       "</table>\n",
       "</div>"
      ],
      "text/plain": [
       "   Id Produto                                  Nome Produto  \\\n",
       "0        1037   A. Datum Advanced Digital Camera M300 Azure   \n",
       "1         953   A. Datum Advanced Digital Camera M300 Black   \n",
       "2        1023   A. Datum Advanced Digital Camera M300 Green   \n",
       "3         967    A. Datum Advanced Digital Camera M300 Grey   \n",
       "4        1009  A. Datum Advanced Digital Camera M300 Orange   \n",
       "\n",
       "                 Categoria     Marca Preço Unit.  Custo Unit.  \n",
       "0  Cameras and camcorders   A. Datum      188.50        86.68  \n",
       "1  Cameras and camcorders   A. Datum      188.50        86.68  \n",
       "2  Cameras and camcorders   A. Datum      188.50        86.68  \n",
       "3  Cameras and camcorders   A. Datum      188.50        86.68  \n",
       "4  Cameras and camcorders   A. Datum      188.50        86.68  "
      ]
     },
     "execution_count": 148,
     "metadata": {},
     "output_type": "execute_result"
    }
   ],
   "source": [
    "produtos = pd.read_excel('data/Cadastro_Produto.xlsx')\n",
    "produtos['Marca'] = produtos['Marca'].str.strip()\n",
    "produtos.head(5)"
   ]
  },
  {
   "cell_type": "code",
   "execution_count": 45,
   "id": "c8e75993",
   "metadata": {},
   "outputs": [
    {
     "data": {
      "text/html": [
       "<div>\n",
       "<style scoped>\n",
       "    .dataframe tbody tr th:only-of-type {\n",
       "        vertical-align: middle;\n",
       "    }\n",
       "\n",
       "    .dataframe tbody tr th {\n",
       "        vertical-align: top;\n",
       "    }\n",
       "\n",
       "    .dataframe thead th {\n",
       "        text-align: right;\n",
       "    }\n",
       "</style>\n",
       "<table border=\"1\" class=\"dataframe\">\n",
       "  <thead>\n",
       "    <tr style=\"text-align: right;\">\n",
       "      <th></th>\n",
       "      <th>Id Cliente</th>\n",
       "      <th>Nome Completo</th>\n",
       "      <th>Genero</th>\n",
       "      <th>Data de Nacimento</th>\n",
       "    </tr>\n",
       "  </thead>\n",
       "  <tbody>\n",
       "    <tr>\n",
       "      <th>0</th>\n",
       "      <td>1</td>\n",
       "      <td>P., Juana</td>\n",
       "      <td>F</td>\n",
       "      <td>1991-04-07</td>\n",
       "    </tr>\n",
       "    <tr>\n",
       "      <th>1</th>\n",
       "      <td>2</td>\n",
       "      <td>L., Apoliano</td>\n",
       "      <td>M</td>\n",
       "      <td>1990-05-13</td>\n",
       "    </tr>\n",
       "    <tr>\n",
       "      <th>2</th>\n",
       "      <td>3</td>\n",
       "      <td>G., Thatiane</td>\n",
       "      <td>F</td>\n",
       "      <td>1990-08-11</td>\n",
       "    </tr>\n",
       "    <tr>\n",
       "      <th>3</th>\n",
       "      <td>4</td>\n",
       "      <td>R., Gate</td>\n",
       "      <td>F</td>\n",
       "      <td>1993-02-13</td>\n",
       "    </tr>\n",
       "    <tr>\n",
       "      <th>4</th>\n",
       "      <td>5</td>\n",
       "      <td>N., Darcio</td>\n",
       "      <td>M</td>\n",
       "      <td>1993-08-07</td>\n",
       "    </tr>\n",
       "  </tbody>\n",
       "</table>\n",
       "</div>"
      ],
      "text/plain": [
       "   Id Cliente Nome Completo Genero Data de Nacimento\n",
       "0           1     P., Juana      F        1991-04-07\n",
       "1           2  L., Apoliano      M        1990-05-13\n",
       "2           3  G., Thatiane      F        1990-08-11\n",
       "3           4      R., Gate      F        1993-02-13\n",
       "4           5    N., Darcio      M        1993-08-07"
      ]
     },
     "execution_count": 45,
     "metadata": {},
     "output_type": "execute_result"
    }
   ],
   "source": [
    "clientes = pd.read_excel('data/Cadastro_Clientes.xlsx')\n",
    "clientes.head(5)"
   ]
  },
  {
   "cell_type": "code",
   "execution_count": 46,
   "id": "b94a3a46",
   "metadata": {},
   "outputs": [
    {
     "data": {
      "text/html": [
       "<div>\n",
       "<style scoped>\n",
       "    .dataframe tbody tr th:only-of-type {\n",
       "        vertical-align: middle;\n",
       "    }\n",
       "\n",
       "    .dataframe tbody tr th {\n",
       "        vertical-align: top;\n",
       "    }\n",
       "\n",
       "    .dataframe thead th {\n",
       "        text-align: right;\n",
       "    }\n",
       "</style>\n",
       "<table border=\"1\" class=\"dataframe\">\n",
       "  <thead>\n",
       "    <tr style=\"text-align: right;\">\n",
       "      <th></th>\n",
       "      <th>Id Cliente</th>\n",
       "      <th>Nome Completo</th>\n",
       "      <th>Genero</th>\n",
       "      <th>Data de Nacimento</th>\n",
       "    </tr>\n",
       "  </thead>\n",
       "  <tbody>\n",
       "    <tr>\n",
       "      <th>0</th>\n",
       "      <td>1</td>\n",
       "      <td>Juana P.</td>\n",
       "      <td>Feminino</td>\n",
       "      <td>1991-04-07</td>\n",
       "    </tr>\n",
       "    <tr>\n",
       "      <th>1</th>\n",
       "      <td>2</td>\n",
       "      <td>Apoliano L.</td>\n",
       "      <td>Masculino</td>\n",
       "      <td>1990-05-13</td>\n",
       "    </tr>\n",
       "    <tr>\n",
       "      <th>2</th>\n",
       "      <td>3</td>\n",
       "      <td>Thatiane G.</td>\n",
       "      <td>Feminino</td>\n",
       "      <td>1990-08-11</td>\n",
       "    </tr>\n",
       "    <tr>\n",
       "      <th>3</th>\n",
       "      <td>4</td>\n",
       "      <td>Gate R.</td>\n",
       "      <td>Feminino</td>\n",
       "      <td>1993-02-13</td>\n",
       "    </tr>\n",
       "    <tr>\n",
       "      <th>4</th>\n",
       "      <td>5</td>\n",
       "      <td>Darcio N.</td>\n",
       "      <td>Masculino</td>\n",
       "      <td>1993-08-07</td>\n",
       "    </tr>\n",
       "  </tbody>\n",
       "</table>\n",
       "</div>"
      ],
      "text/plain": [
       "   Id Cliente Nome Completo     Genero Data de Nacimento\n",
       "0           1      Juana P.   Feminino        1991-04-07\n",
       "1           2   Apoliano L.  Masculino        1990-05-13\n",
       "2           3   Thatiane G.   Feminino        1990-08-11\n",
       "3           4       Gate R.   Feminino        1993-02-13\n",
       "4           5     Darcio N.  Masculino        1993-08-07"
      ]
     },
     "execution_count": 46,
     "metadata": {},
     "output_type": "execute_result"
    }
   ],
   "source": [
    "clientes['Nome Completo'] = clientes['Nome Completo'].apply(lambda x: f\"{x.split(', ')[1]} {x.split(', ')[0]}\")\n",
    "clientes['Genero'] = clientes['Genero'].replace({'F': 'Feminino','M':'Masculino'})\n",
    "clientes.head()"
   ]
  },
  {
   "cell_type": "code",
   "execution_count": 47,
   "id": "afefb341",
   "metadata": {},
   "outputs": [],
   "source": [
    "def faixa_etaria(x):\n",
    "    if x < 25:\n",
    "        return 'Jovem'\n",
    "    elif x < 50:\n",
    "        return 'Adulto'\n",
    "    else:\n",
    "        return 'Idoso'"
   ]
  },
  {
   "cell_type": "code",
   "execution_count": 48,
   "id": "10f3828d",
   "metadata": {},
   "outputs": [
    {
     "data": {
      "text/html": [
       "<div>\n",
       "<style scoped>\n",
       "    .dataframe tbody tr th:only-of-type {\n",
       "        vertical-align: middle;\n",
       "    }\n",
       "\n",
       "    .dataframe tbody tr th {\n",
       "        vertical-align: top;\n",
       "    }\n",
       "\n",
       "    .dataframe thead th {\n",
       "        text-align: right;\n",
       "    }\n",
       "</style>\n",
       "<table border=\"1\" class=\"dataframe\">\n",
       "  <thead>\n",
       "    <tr style=\"text-align: right;\">\n",
       "      <th></th>\n",
       "      <th>Id Cliente</th>\n",
       "      <th>Nome Completo</th>\n",
       "      <th>Genero</th>\n",
       "      <th>Data de Nacimento</th>\n",
       "      <th>Idade</th>\n",
       "      <th>Faixa Etaria</th>\n",
       "    </tr>\n",
       "  </thead>\n",
       "  <tbody>\n",
       "    <tr>\n",
       "      <th>0</th>\n",
       "      <td>1</td>\n",
       "      <td>Juana P.</td>\n",
       "      <td>Feminino</td>\n",
       "      <td>1991-04-07</td>\n",
       "      <td>34</td>\n",
       "      <td>Adulto</td>\n",
       "    </tr>\n",
       "    <tr>\n",
       "      <th>1</th>\n",
       "      <td>2</td>\n",
       "      <td>Apoliano L.</td>\n",
       "      <td>Masculino</td>\n",
       "      <td>1990-05-13</td>\n",
       "      <td>35</td>\n",
       "      <td>Adulto</td>\n",
       "    </tr>\n",
       "    <tr>\n",
       "      <th>2</th>\n",
       "      <td>3</td>\n",
       "      <td>Thatiane G.</td>\n",
       "      <td>Feminino</td>\n",
       "      <td>1990-08-11</td>\n",
       "      <td>34</td>\n",
       "      <td>Adulto</td>\n",
       "    </tr>\n",
       "    <tr>\n",
       "      <th>3</th>\n",
       "      <td>4</td>\n",
       "      <td>Gate R.</td>\n",
       "      <td>Feminino</td>\n",
       "      <td>1993-02-13</td>\n",
       "      <td>32</td>\n",
       "      <td>Adulto</td>\n",
       "    </tr>\n",
       "    <tr>\n",
       "      <th>4</th>\n",
       "      <td>5</td>\n",
       "      <td>Darcio N.</td>\n",
       "      <td>Masculino</td>\n",
       "      <td>1993-08-07</td>\n",
       "      <td>31</td>\n",
       "      <td>Adulto</td>\n",
       "    </tr>\n",
       "  </tbody>\n",
       "</table>\n",
       "</div>"
      ],
      "text/plain": [
       "   Id Cliente Nome Completo     Genero Data de Nacimento  Idade Faixa Etaria\n",
       "0           1      Juana P.   Feminino        1991-04-07     34       Adulto\n",
       "1           2   Apoliano L.  Masculino        1990-05-13     35       Adulto\n",
       "2           3   Thatiane G.   Feminino        1990-08-11     34       Adulto\n",
       "3           4       Gate R.   Feminino        1993-02-13     32       Adulto\n",
       "4           5     Darcio N.  Masculino        1993-08-07     31       Adulto"
      ]
     },
     "execution_count": 48,
     "metadata": {},
     "output_type": "execute_result"
    }
   ],
   "source": [
    "hoje = pd.to_datetime('today')\n",
    "clientes['Idade'] = clientes['Data de Nacimento'].apply(lambda x: hoje.year - x.year - ((hoje.month, hoje.day) < (x.month, x.day)))\n",
    "clientes['Faixa Etaria'] = clientes['Idade'].apply(faixa_etaria)\n",
    "clientes.head()"
   ]
  },
  {
   "cell_type": "code",
   "execution_count": 50,
   "id": "13a2714b",
   "metadata": {},
   "outputs": [
    {
     "data": {
      "text/html": [
       "<div>\n",
       "<style scoped>\n",
       "    .dataframe tbody tr th:only-of-type {\n",
       "        vertical-align: middle;\n",
       "    }\n",
       "\n",
       "    .dataframe tbody tr th {\n",
       "        vertical-align: top;\n",
       "    }\n",
       "\n",
       "    .dataframe thead th {\n",
       "        text-align: right;\n",
       "    }\n",
       "</style>\n",
       "<table border=\"1\" class=\"dataframe\">\n",
       "  <thead>\n",
       "    <tr style=\"text-align: right;\">\n",
       "      <th></th>\n",
       "      <th>Data Venda</th>\n",
       "      <th>Id Loja</th>\n",
       "      <th>Id Produto</th>\n",
       "      <th>Id Cliente</th>\n",
       "      <th>Qtd. Vendida</th>\n",
       "      <th>Qtd. Devolvida</th>\n",
       "      <th>Preco Unitario</th>\n",
       "    </tr>\n",
       "  </thead>\n",
       "  <tbody>\n",
       "    <tr>\n",
       "      <th>0</th>\n",
       "      <td>2022-01-01</td>\n",
       "      <td>500</td>\n",
       "      <td>83</td>\n",
       "      <td>7604</td>\n",
       "      <td>1</td>\n",
       "      <td>0</td>\n",
       "      <td>99.99</td>\n",
       "    </tr>\n",
       "    <tr>\n",
       "      <th>1</th>\n",
       "      <td>2022-01-01</td>\n",
       "      <td>879</td>\n",
       "      <td>83</td>\n",
       "      <td>7605</td>\n",
       "      <td>2</td>\n",
       "      <td>0</td>\n",
       "      <td>99.99</td>\n",
       "    </tr>\n",
       "    <tr>\n",
       "      <th>2</th>\n",
       "      <td>2022-01-01</td>\n",
       "      <td>679</td>\n",
       "      <td>83</td>\n",
       "      <td>7606</td>\n",
       "      <td>1</td>\n",
       "      <td>0</td>\n",
       "      <td>99.99</td>\n",
       "    </tr>\n",
       "    <tr>\n",
       "      <th>3</th>\n",
       "      <td>2022-01-01</td>\n",
       "      <td>791</td>\n",
       "      <td>83</td>\n",
       "      <td>7607</td>\n",
       "      <td>1</td>\n",
       "      <td>0</td>\n",
       "      <td>99.99</td>\n",
       "    </tr>\n",
       "    <tr>\n",
       "      <th>4</th>\n",
       "      <td>2022-01-01</td>\n",
       "      <td>644</td>\n",
       "      <td>83</td>\n",
       "      <td>7608</td>\n",
       "      <td>4</td>\n",
       "      <td>0</td>\n",
       "      <td>99.99</td>\n",
       "    </tr>\n",
       "  </tbody>\n",
       "</table>\n",
       "</div>"
      ],
      "text/plain": [
       "  Data Venda  Id Loja  Id Produto  Id Cliente  Qtd. Vendida  Qtd. Devolvida  \\\n",
       "0 2022-01-01      500          83        7604             1               0   \n",
       "1 2022-01-01      879          83        7605             2               0   \n",
       "2 2022-01-01      679          83        7606             1               0   \n",
       "3 2022-01-01      791          83        7607             1               0   \n",
       "4 2022-01-01      644          83        7608             4               0   \n",
       "\n",
       "  Preco Unitario  \n",
       "0          99.99  \n",
       "1          99.99  \n",
       "2          99.99  \n",
       "3          99.99  \n",
       "4          99.99  "
      ]
     },
     "execution_count": 50,
     "metadata": {},
     "output_type": "execute_result"
    }
   ],
   "source": [
    "vendas_2022 = pd.read_excel('data/Base_Vendas-2022.xlsx')\n",
    "vendas_2023 = pd.read_excel('data/Base_Vendas-2023.xlsx')\n",
    "vendas_2024 = pd.read_excel('data/Base_Vendas-2024.xlsx')\n",
    "vendas_2022.head()"
   ]
  },
  {
   "cell_type": "code",
   "execution_count": 129,
   "id": "2224e751",
   "metadata": {},
   "outputs": [],
   "source": [
    "vendas = pd.concat([vendas_2022,vendas_2023,vendas_2024])"
   ]
  },
  {
   "cell_type": "code",
   "execution_count": 130,
   "id": "10c7ec08",
   "metadata": {},
   "outputs": [
    {
     "data": {
      "text/html": [
       "<div>\n",
       "<style scoped>\n",
       "    .dataframe tbody tr th:only-of-type {\n",
       "        vertical-align: middle;\n",
       "    }\n",
       "\n",
       "    .dataframe tbody tr th {\n",
       "        vertical-align: top;\n",
       "    }\n",
       "\n",
       "    .dataframe thead th {\n",
       "        text-align: right;\n",
       "    }\n",
       "</style>\n",
       "<table border=\"1\" class=\"dataframe\">\n",
       "  <thead>\n",
       "    <tr style=\"text-align: right;\">\n",
       "      <th></th>\n",
       "      <th>Data Venda</th>\n",
       "      <th>Id Loja</th>\n",
       "      <th>Id Produto</th>\n",
       "      <th>Id Cliente</th>\n",
       "      <th>Qtd. Vendida</th>\n",
       "      <th>Qtd. Devolvida</th>\n",
       "      <th>Preco Unitario</th>\n",
       "      <th>Valor Total</th>\n",
       "    </tr>\n",
       "  </thead>\n",
       "  <tbody>\n",
       "    <tr>\n",
       "      <th>0</th>\n",
       "      <td>2022-01-01</td>\n",
       "      <td>500</td>\n",
       "      <td>83</td>\n",
       "      <td>7604</td>\n",
       "      <td>1</td>\n",
       "      <td>0</td>\n",
       "      <td>99.99</td>\n",
       "      <td>99.99</td>\n",
       "    </tr>\n",
       "    <tr>\n",
       "      <th>1</th>\n",
       "      <td>2022-01-01</td>\n",
       "      <td>879</td>\n",
       "      <td>83</td>\n",
       "      <td>7605</td>\n",
       "      <td>2</td>\n",
       "      <td>0</td>\n",
       "      <td>99.99</td>\n",
       "      <td>199.98</td>\n",
       "    </tr>\n",
       "    <tr>\n",
       "      <th>2</th>\n",
       "      <td>2022-01-01</td>\n",
       "      <td>679</td>\n",
       "      <td>83</td>\n",
       "      <td>7606</td>\n",
       "      <td>1</td>\n",
       "      <td>0</td>\n",
       "      <td>99.99</td>\n",
       "      <td>99.99</td>\n",
       "    </tr>\n",
       "    <tr>\n",
       "      <th>3</th>\n",
       "      <td>2022-01-01</td>\n",
       "      <td>791</td>\n",
       "      <td>83</td>\n",
       "      <td>7607</td>\n",
       "      <td>1</td>\n",
       "      <td>0</td>\n",
       "      <td>99.99</td>\n",
       "      <td>99.99</td>\n",
       "    </tr>\n",
       "    <tr>\n",
       "      <th>4</th>\n",
       "      <td>2022-01-01</td>\n",
       "      <td>644</td>\n",
       "      <td>83</td>\n",
       "      <td>7608</td>\n",
       "      <td>4</td>\n",
       "      <td>0</td>\n",
       "      <td>99.99</td>\n",
       "      <td>399.96</td>\n",
       "    </tr>\n",
       "  </tbody>\n",
       "</table>\n",
       "</div>"
      ],
      "text/plain": [
       "  Data Venda  Id Loja  Id Produto  Id Cliente  Qtd. Vendida  Qtd. Devolvida  \\\n",
       "0 2022-01-01      500          83        7604             1               0   \n",
       "1 2022-01-01      879          83        7605             2               0   \n",
       "2 2022-01-01      679          83        7606             1               0   \n",
       "3 2022-01-01      791          83        7607             1               0   \n",
       "4 2022-01-01      644          83        7608             4               0   \n",
       "\n",
       "   Preco Unitario  Valor Total  \n",
       "0           99.99        99.99  \n",
       "1           99.99       199.98  \n",
       "2           99.99        99.99  \n",
       "3           99.99        99.99  \n",
       "4           99.99       399.96  "
      ]
     },
     "execution_count": 130,
     "metadata": {},
     "output_type": "execute_result"
    }
   ],
   "source": [
    "#alguns valores forem covertido para, por exemplo, 2567.,8, entao retirei os '.' e ',' e dividi por 100, ja que todos os valores tem 2 casas decimais\n",
    "vendas['Preco Unitario'] = vendas['Preco Unitario'].astype(str).str.replace(r'\\.(?=\\d)', '', regex=True)\n",
    "vendas['Preco Unitario'] = vendas['Preco Unitario'].astype(str).str.replace(',', '', regex=True) \n",
    "#vendas['Preco Unitario'] = pd.to_numeric(vendas['Preco Unitario'], errors='coerce') # excluir os valores errados\n",
    "vendas['Preco Unitario'] = vendas['Preco Unitario'].astype(float)/100\n",
    "vendas['Valor Total'] = vendas['Qtd. Vendida'].astype(int)*vendas['Preco Unitario'].astype(float)\n",
    "vendas.head()"
   ]
  },
  {
   "cell_type": "code",
   "execution_count": 132,
   "id": "7c71d229",
   "metadata": {},
   "outputs": [
    {
     "data": {
      "text/plain": [
       "18484"
      ]
     },
     "execution_count": 132,
     "metadata": {},
     "output_type": "execute_result"
    }
   ],
   "source": [
    "num_clientes = len(vendas['Id Cliente'].unique())\n",
    "num_clientes"
   ]
  },
  {
   "cell_type": "code",
   "execution_count": 133,
   "id": "2b7acc9c",
   "metadata": {},
   "outputs": [
    {
     "data": {
      "text/plain": [
       "np.float64(548511225.334)"
      ]
     },
     "execution_count": 133,
     "metadata": {},
     "output_type": "execute_result"
    }
   ],
   "source": [
    "faturamento = vendas['Valor Total'].sum()\n",
    "faturamento "
   ]
  },
  {
   "cell_type": "code",
   "execution_count": 153,
   "id": "df638bf1",
   "metadata": {},
   "outputs": [
    {
     "data": {
      "text/plain": [
       "np.int64(2117268)"
      ]
     },
     "execution_count": 153,
     "metadata": {},
     "output_type": "execute_result"
    }
   ],
   "source": [
    "qtd_vendida = vendas['Qtd. Vendida'].sum()\n",
    "qtd_vendida "
   ]
  },
  {
   "cell_type": "code",
   "execution_count": 155,
   "id": "e514d368",
   "metadata": {},
   "outputs": [
    {
     "data": {
      "text/plain": [
       "np.int64(7543)"
      ]
     },
     "execution_count": 155,
     "metadata": {},
     "output_type": "execute_result"
    }
   ],
   "source": [
    "qtd_devolvida = vendas['Qtd. Devolvida'].sum()\n",
    "qtd_devolvida "
   ]
  },
  {
   "cell_type": "code",
   "execution_count": 154,
   "id": "e8eec34e",
   "metadata": {},
   "outputs": [
    {
     "data": {
      "text/plain": [
       "np.float64(478.64737572570095)"
      ]
     },
     "execution_count": 154,
     "metadata": {},
     "output_type": "execute_result"
    }
   ],
   "source": [
    "ticket_medio = vendas['Valor Total'].mean()\n",
    "ticket_medio"
   ]
  },
  {
   "cell_type": "code",
   "execution_count": 156,
   "id": "cc01bf22",
   "metadata": {},
   "outputs": [
    {
     "data": {
      "text/plain": [
       "np.float64(0.35626099293995844)"
      ]
     },
     "execution_count": 156,
     "metadata": {},
     "output_type": "execute_result"
    }
   ],
   "source": [
    "porcent_devolvida = qtd_devolvida/qtd_vendida * 100\n",
    "porcent_devolvida"
   ]
  },
  {
   "cell_type": "code",
   "execution_count": 131,
   "id": "7dad7926",
   "metadata": {},
   "outputs": [
    {
     "data": {
      "text/plain": [
       "Continente\n",
       "América do Norte    3.218893e+08\n",
       "Austrália           4.269744e+07\n",
       "Europa              1.550743e+08\n",
       "Ásia                2.885010e+07\n",
       "Name: Valor Total, dtype: float64"
      ]
     },
     "execution_count": 131,
     "metadata": {},
     "output_type": "execute_result"
    }
   ],
   "source": [
    "lojas_vendas = pd.merge(lojas, vendas, on='Id Loja')\n",
    "fat_por_continente = lojas_vendas.groupby('Continente')['Valor Total'].sum()\n",
    "fat_por_continente"
   ]
  },
  {
   "cell_type": "code",
   "execution_count": 149,
   "id": "9a8eb2bf",
   "metadata": {},
   "outputs": [
    {
     "data": {
      "text/plain": [
       "Marca\n",
       "A. Datum                3.294380e+05\n",
       "Adventure Works         8.269971e+06\n",
       "Contoso                 2.238957e+08\n",
       "Fabrikam                9.244702e+06\n",
       "Litware                 1.094370e+08\n",
       "Northwind Traders       1.166866e+08\n",
       "Proseware               3.163072e+06\n",
       "Southridge Video        3.749310e+07\n",
       "Tailspin Toys           3.193161e+07\n",
       "The Phone Company       1.999175e+06\n",
       "Wide World Importers    6.060916e+06\n",
       "Name: Valor Total, dtype: float64"
      ]
     },
     "execution_count": 149,
     "metadata": {},
     "output_type": "execute_result"
    }
   ],
   "source": [
    "produtos_vendas = pd.merge(produtos, vendas, on='Id Produto')\n",
    "fat_por_marca = produtos_vendas.groupby('Marca')['Valor Total'].sum()\n",
    "fat_por_marca"
   ]
  },
  {
   "cell_type": "code",
   "execution_count": 150,
   "id": "39e63987",
   "metadata": {},
   "outputs": [
    {
     "data": {
      "text/plain": [
       "Genero\n",
       "Feminino     1168764\n",
       "Masculino     948504\n",
       "Name: Qtd. Vendida, dtype: int64"
      ]
     },
     "execution_count": 150,
     "metadata": {},
     "output_type": "execute_result"
    }
   ],
   "source": [
    "cliente_vendas = pd.merge(clientes, vendas, on='Id Cliente')\n",
    "vendas_por_genero = cliente_vendas.groupby('Genero')['Qtd. Vendida'].sum()\n",
    "vendas_por_genero"
   ]
  },
  {
   "cell_type": "code",
   "execution_count": 152,
   "id": "f1cef97b",
   "metadata": {},
   "outputs": [
    {
     "name": "stderr",
     "output_type": "stream",
     "text": [
      "C:\\Users\\User\\AppData\\Local\\Temp\\ipykernel_1936\\688043751.py:1: FutureWarning: 'M' is deprecated and will be removed in a future version, please use 'ME' instead.\n",
      "  vendas_por_mes = vendas.groupby(pd.Grouper(key='Data Venda', freq='M'))['Valor Total'].sum()\n"
     ]
    },
    {
     "data": {
      "text/plain": [
       "Data Venda\n",
       "2022-01-31    4.049387e+06\n",
       "2022-02-28    4.902420e+06\n",
       "2022-03-31    5.475101e+06\n",
       "2022-04-30    6.226229e+06\n",
       "2022-05-31    6.428379e+06\n",
       "2022-06-30    6.279717e+06\n",
       "2022-07-31    5.497016e+06\n",
       "2022-08-31    5.681319e+06\n",
       "2022-09-30    5.314265e+06\n",
       "2022-10-31    5.143082e+06\n",
       "2022-11-30    4.776842e+06\n",
       "2022-12-31    4.875704e+06\n",
       "2023-01-31    2.287293e+07\n",
       "2023-02-28    2.332292e+07\n",
       "2023-03-31    2.310511e+07\n",
       "2023-04-30    2.287828e+07\n",
       "2023-05-31    2.289887e+07\n",
       "2023-06-30    2.094788e+07\n",
       "2023-07-31    2.154085e+07\n",
       "2023-08-31    1.769684e+07\n",
       "2023-09-30    1.791003e+07\n",
       "2023-10-31    1.428313e+07\n",
       "2023-11-30    1.837587e+07\n",
       "2023-12-31    1.954811e+07\n",
       "2024-01-31    1.982382e+07\n",
       "2024-02-29    1.842693e+07\n",
       "2024-03-31    1.805382e+07\n",
       "2024-04-30    2.428151e+07\n",
       "2024-05-31    2.273350e+07\n",
       "2024-06-30    2.323582e+07\n",
       "2024-07-31    2.472690e+07\n",
       "2024-08-31    2.261825e+07\n",
       "2024-09-30    1.915400e+07\n",
       "2024-10-31    1.509402e+07\n",
       "2024-11-30    1.525106e+07\n",
       "2024-12-31    1.508131e+07\n",
       "Freq: ME, Name: Valor Total, dtype: float64"
      ]
     },
     "execution_count": 152,
     "metadata": {},
     "output_type": "execute_result"
    }
   ],
   "source": [
    "vendas_por_mes = vendas.groupby(pd.Grouper(key='Data Venda', freq='M'))['Valor Total'].sum()\n",
    "vendas_por_mes"
   ]
  },
  {
   "cell_type": "code",
   "execution_count": 160,
   "id": "701bfd31",
   "metadata": {},
   "outputs": [
    {
     "data": {
      "image/png": "[encoded data removed]",
      "text/plain": [
       "<Figure size 1000x500 with 1 Axes>"
      ]
     },
     "metadata": {},
     "output_type": "display_data"
    }
   ],
   "source": [
    "import matplotlib.pyplot as plt\n",
    "\n",
    "vendas_por_mes.plot.area(figsize=(10, 5), alpha=0.5)\n",
    "plt.title('Faturamento por mes')\n",
    "plt.tight_layout()\n",
    "plt.show()"
   ]
  },
  {
   "cell_type": "code",
   "execution_count": null,
   "id": "4fc33052",
   "metadata": {},
   "outputs": [
    {
     "data": {
      "image/png": "[encoded data removed]",
      "text/plain": [
       "<Figure size 640x480 with 1 Axes>"
      ]
     },
     "metadata": {},
     "output_type": "display_data"
    }
   ],
   "source": [
    "text = lambda p: f'{p:.1f}%\\n({int(p * qtd_vendida / 100)})'\n",
    "labels = [f'{cat}\\n{val} vendas\\n{val/qtd_vendida:.1%}' for cat, val in zip(vendas_por_genero.index, vendas_por_genero)]\n",
    "vendas_por_genero.plot.pie(labels=labels,startangle=90, wedgeprops={'width': 0.4})\n",
    "plt.title('Vendas por Gênero')\n",
    "plt.tight_layout()\n",
    "plt.show()"
   ]
  },
  {
   "cell_type": "code",
   "execution_count": null,
   "id": "69d5ff57",
   "metadata": {},
   "outputs": [],
   "source": []
  }
 ],
 "metadata": {
  "kernelspec": {
   "display_name": "Python 3",
   "language": "python",
   "name": "python3"
  },
  "language_info": {
   "codemirror_mode": {
    "name": "ipython",
    "version": 3
   },
   "file_extension": ".py",
   "mimetype": "text/x-python",
   "name": "python",
   "nbconvert_exporter": "python",
   "pygments_lexer": "ipython3",
   "version": "3.13.2"
  }
 },
 "nbformat": 4,
 "nbformat_minor": 5
}
